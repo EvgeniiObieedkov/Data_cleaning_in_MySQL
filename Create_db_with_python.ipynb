{
 "cells": [
  {
   "cell_type": "markdown",
   "id": "40c6cab6-c95c-418f-a046-0ea562bc425c",
   "metadata": {},
   "source": [
    "#### Step 1: Import libraties"
   ]
  },
  {
   "cell_type": "code",
   "execution_count": 38,
   "id": "4e5a33c5-50e3-4f9a-88bb-2571d1fff586",
   "metadata": {},
   "outputs": [],
   "source": [
    "import pandas as pd\n",
    "import mysql.connector\n",
    "from sqlalchemy import create_engine, MetaData, Table"
   ]
  },
  {
   "cell_type": "markdown",
   "id": "5bc5ab33-f75c-4fbb-9fc5-4e0e4c3f8553",
   "metadata": {},
   "source": [
    "#### Step 2: Load the Excel file"
   ]
  },
  {
   "cell_type": "code",
   "execution_count": 39,
   "id": "4767ba9f-c08d-4985-a2c3-280fca45aceb",
   "metadata": {},
   "outputs": [
    {
     "name": "stdout",
     "output_type": "stream",
     "text": [
      "['property_sales']\n"
     ]
    }
   ],
   "source": [
    "# Define the path to the excel file\n",
    "file_path = 'Nashville_Housing_Data.xlsx'\n",
    "\n",
    "# Load the excel file into a pandas ExcelFile object\n",
    "excel_file = pd.ExcelFile(file_path)\n",
    "\n",
    "# Get a list of all sheet names in the excel file\n",
    "sheet_names = excel_file.sheet_names\n",
    "\n",
    "# Print the list of sheet names\n",
    "print(sheet_names)"
   ]
  },
  {
   "cell_type": "markdown",
   "id": "45ec8f87-957e-4a3d-a30d-ed833bfd28c9",
   "metadata": {},
   "source": [
    "#### Step 3: Store each sheet in the dictionary"
   ]
  },
  {
   "cell_type": "code",
   "execution_count": 40,
   "id": "2a291b1f-706b-4709-b28c-ba92d4d05761",
   "metadata": {},
   "outputs": [
    {
     "data": {
      "text/plain": [
       "dict_keys(['property_sales'])"
      ]
     },
     "execution_count": 40,
     "metadata": {},
     "output_type": "execute_result"
    }
   ],
   "source": [
    "# Create an empty dictionary to store the data from each sheet \n",
    "housing_data = {} # Dictionary for storing the data\n",
    "\n",
    "# Loop through each sheet name in the list of sheet names\n",
    "for sheet in sheet_names:\n",
    "    # Read the data from each sheet and store it in the dictionary with sheet names as keys\n",
    "    housing_data[sheet] = excel_file.parse(sheet) # Use 'parse' nethod instead of 'pd.read_excel'\n",
    "\n",
    "# Now the data from each sheet is stored in the housing_data dictionary\n",
    "\n",
    "# Get all keys (sheet names) from the housing_data dictionary\n",
    "housing_data.keys()"
   ]
  },
  {
   "cell_type": "markdown",
   "id": "644acee0-c054-43c1-923f-4ab4e6a6107b",
   "metadata": {},
   "source": [
    "#### Step 4: Process 'property_sales' DataFrame"
   ]
  },
  {
   "cell_type": "code",
   "execution_count": 41,
   "id": "ad0a0c88-e869-45ad-ab7e-35651073d071",
   "metadata": {},
   "outputs": [
    {
     "data": {
      "text/html": [
       "<div>\n",
       "<style scoped>\n",
       "    .dataframe tbody tr th:only-of-type {\n",
       "        vertical-align: middle;\n",
       "    }\n",
       "\n",
       "    .dataframe tbody tr th {\n",
       "        vertical-align: top;\n",
       "    }\n",
       "\n",
       "    .dataframe thead th {\n",
       "        text-align: right;\n",
       "    }\n",
       "</style>\n",
       "<table border=\"1\" class=\"dataframe\">\n",
       "  <thead>\n",
       "    <tr style=\"text-align: right;\">\n",
       "      <th></th>\n",
       "      <th>UniqueID</th>\n",
       "      <th>ParcelID</th>\n",
       "      <th>LandUse</th>\n",
       "      <th>PropertyAddress</th>\n",
       "      <th>SaleDate</th>\n",
       "      <th>SalePrice</th>\n",
       "      <th>LegalReference</th>\n",
       "      <th>SoldAsVacant</th>\n",
       "      <th>OwnerName</th>\n",
       "      <th>OwnerAddress</th>\n",
       "      <th>Acreage</th>\n",
       "      <th>TaxDistrict</th>\n",
       "      <th>LandValue</th>\n",
       "      <th>BuildingValue</th>\n",
       "      <th>TotalValue</th>\n",
       "      <th>YearBuilt</th>\n",
       "      <th>Bedrooms</th>\n",
       "      <th>FullBath</th>\n",
       "      <th>HalfBath</th>\n",
       "    </tr>\n",
       "  </thead>\n",
       "  <tbody>\n",
       "    <tr>\n",
       "      <th>0</th>\n",
       "      <td>2045</td>\n",
       "      <td>007 00 0 125.00</td>\n",
       "      <td>SINGLE FAMILY</td>\n",
       "      <td>1808  FOX CHASE DR, GOODLETTSVILLE</td>\n",
       "      <td>2013-04-09</td>\n",
       "      <td>240000</td>\n",
       "      <td>20130412-0036474</td>\n",
       "      <td>No</td>\n",
       "      <td>FRAZIER, CYRENTHA LYNETTE</td>\n",
       "      <td>1808  FOX CHASE DR, GOODLETTSVILLE, TN</td>\n",
       "      <td>2.3</td>\n",
       "      <td>GENERAL SERVICES DISTRICT</td>\n",
       "      <td>50000.0</td>\n",
       "      <td>168200.0</td>\n",
       "      <td>235700.0</td>\n",
       "      <td>1986.0</td>\n",
       "      <td>3.0</td>\n",
       "      <td>3.0</td>\n",
       "      <td>0.0</td>\n",
       "    </tr>\n",
       "    <tr>\n",
       "      <th>1</th>\n",
       "      <td>16918</td>\n",
       "      <td>007 00 0 130.00</td>\n",
       "      <td>SINGLE FAMILY</td>\n",
       "      <td>1832  FOX CHASE DR, GOODLETTSVILLE</td>\n",
       "      <td>2014-06-10</td>\n",
       "      <td>366000</td>\n",
       "      <td>20140619-0053768</td>\n",
       "      <td>No</td>\n",
       "      <td>BONER, CHARLES &amp; LESLIE</td>\n",
       "      <td>1832  FOX CHASE DR, GOODLETTSVILLE, TN</td>\n",
       "      <td>3.5</td>\n",
       "      <td>GENERAL SERVICES DISTRICT</td>\n",
       "      <td>50000.0</td>\n",
       "      <td>264100.0</td>\n",
       "      <td>319000.0</td>\n",
       "      <td>1998.0</td>\n",
       "      <td>3.0</td>\n",
       "      <td>3.0</td>\n",
       "      <td>2.0</td>\n",
       "    </tr>\n",
       "    <tr>\n",
       "      <th>2</th>\n",
       "      <td>54582</td>\n",
       "      <td>007 00 0 138.00</td>\n",
       "      <td>SINGLE FAMILY</td>\n",
       "      <td>1864 FOX CHASE  DR, GOODLETTSVILLE</td>\n",
       "      <td>2016-09-26</td>\n",
       "      <td>435000</td>\n",
       "      <td>20160927-0101718</td>\n",
       "      <td>No</td>\n",
       "      <td>WILSON, JAMES E. &amp; JOANNE</td>\n",
       "      <td>1864  FOX CHASE DR, GOODLETTSVILLE, TN</td>\n",
       "      <td>2.9</td>\n",
       "      <td>GENERAL SERVICES DISTRICT</td>\n",
       "      <td>50000.0</td>\n",
       "      <td>216200.0</td>\n",
       "      <td>298000.0</td>\n",
       "      <td>1987.0</td>\n",
       "      <td>4.0</td>\n",
       "      <td>3.0</td>\n",
       "      <td>0.0</td>\n",
       "    </tr>\n",
       "  </tbody>\n",
       "</table>\n",
       "</div>"
      ],
      "text/plain": [
       "   UniqueID          ParcelID        LandUse  \\\n",
       "0       2045  007 00 0 125.00  SINGLE FAMILY   \n",
       "1      16918  007 00 0 130.00  SINGLE FAMILY   \n",
       "2      54582  007 00 0 138.00  SINGLE FAMILY   \n",
       "\n",
       "                      PropertyAddress   SaleDate  SalePrice    LegalReference  \\\n",
       "0  1808  FOX CHASE DR, GOODLETTSVILLE 2013-04-09     240000  20130412-0036474   \n",
       "1  1832  FOX CHASE DR, GOODLETTSVILLE 2014-06-10     366000  20140619-0053768   \n",
       "2  1864 FOX CHASE  DR, GOODLETTSVILLE 2016-09-26     435000  20160927-0101718   \n",
       "\n",
       "  SoldAsVacant                  OwnerName  \\\n",
       "0           No  FRAZIER, CYRENTHA LYNETTE   \n",
       "1           No    BONER, CHARLES & LESLIE   \n",
       "2           No  WILSON, JAMES E. & JOANNE   \n",
       "\n",
       "                             OwnerAddress  Acreage                TaxDistrict  \\\n",
       "0  1808  FOX CHASE DR, GOODLETTSVILLE, TN      2.3  GENERAL SERVICES DISTRICT   \n",
       "1  1832  FOX CHASE DR, GOODLETTSVILLE, TN      3.5  GENERAL SERVICES DISTRICT   \n",
       "2  1864  FOX CHASE DR, GOODLETTSVILLE, TN      2.9  GENERAL SERVICES DISTRICT   \n",
       "\n",
       "   LandValue  BuildingValue  TotalValue  YearBuilt  Bedrooms  FullBath  \\\n",
       "0    50000.0       168200.0    235700.0     1986.0       3.0       3.0   \n",
       "1    50000.0       264100.0    319000.0     1998.0       3.0       3.0   \n",
       "2    50000.0       216200.0    298000.0     1987.0       4.0       3.0   \n",
       "\n",
       "   HalfBath  \n",
       "0       0.0  \n",
       "1       2.0  \n",
       "2       0.0  "
      ]
     },
     "execution_count": 41,
     "metadata": {},
     "output_type": "execute_result"
    }
   ],
   "source": [
    "housing_data['property_sales'].head(3)"
   ]
  },
  {
   "cell_type": "code",
   "execution_count": 42,
   "id": "aace0dd6-8d15-477c-bc81-23d65ff3d23d",
   "metadata": {},
   "outputs": [
    {
     "name": "stdout",
     "output_type": "stream",
     "text": [
      "<class 'pandas.core.frame.DataFrame'>\n",
      "RangeIndex: 56477 entries, 0 to 56476\n",
      "Data columns (total 19 columns):\n",
      " #   Column           Non-Null Count  Dtype         \n",
      "---  ------           --------------  -----         \n",
      " 0   UniqueID         56477 non-null  int64         \n",
      " 1   ParcelID         56477 non-null  object        \n",
      " 2   LandUse          56477 non-null  object        \n",
      " 3   PropertyAddress  56448 non-null  object        \n",
      " 4   SaleDate         56477 non-null  datetime64[ns]\n",
      " 5   SalePrice        56477 non-null  int64         \n",
      " 6   LegalReference   56477 non-null  object        \n",
      " 7   SoldAsVacant     56477 non-null  object        \n",
      " 8   OwnerName        25261 non-null  object        \n",
      " 9   OwnerAddress     26015 non-null  object        \n",
      " 10  Acreage          26015 non-null  float64       \n",
      " 11  TaxDistrict      26015 non-null  object        \n",
      " 12  LandValue        26015 non-null  float64       \n",
      " 13  BuildingValue    26015 non-null  float64       \n",
      " 14  TotalValue       26015 non-null  float64       \n",
      " 15  YearBuilt        24163 non-null  float64       \n",
      " 16  Bedrooms         24157 non-null  float64       \n",
      " 17  FullBath         24275 non-null  float64       \n",
      " 18  HalfBath         24144 non-null  float64       \n",
      "dtypes: datetime64[ns](1), float64(8), int64(2), object(8)\n",
      "memory usage: 8.2+ MB\n"
     ]
    }
   ],
   "source": [
    "housing_data['property_sales'].info()"
   ]
  },
  {
   "cell_type": "code",
   "execution_count": 43,
   "id": "2ceaf9cc-2660-4ba2-8248-18ed03aadde3",
   "metadata": {},
   "outputs": [],
   "source": [
    "# Iterate over each sheet name and its corresponding data in the housing_data dictionary\n",
    "for sheet_name, data in housing_data.items():\n",
    "    # Remove leading and trailing whitespaces from all column names in the current sheet's data\n",
    "    data.columns = data.columns.str.strip()"
   ]
  },
  {
   "cell_type": "markdown",
   "id": "6f8528e9-b0d2-4945-a9e2-4cbc74a1e797",
   "metadata": {},
   "source": [
    "#### Step 5: Create the database Nashville_housing_db"
   ]
  },
  {
   "cell_type": "code",
   "execution_count": 44,
   "id": "b4461de3-b788-4377-b00b-0a4e5c13b8d1",
   "metadata": {},
   "outputs": [],
   "source": [
    "# Connect to MySQL database\n",
    "conn = mysql.connector.connect(\n",
    "    host = 'localhost',  # Host where the MySQL server is running\n",
    "    user = 'root',       # MySQL username\n",
    "    password = '123456'  # MySQL password\n",
    ")\n",
    "\n",
    "cursor = conn.cursor()  # Create a cursor object to interact with the database\n",
    "\n",
    "# Create the database if it doesn't already exist\n",
    "cursor.execute('CREATE DATABASE IF NOT EXISTS Nashville_housing_db')\n",
    "conn.commit()  # Commit the transaction to save changes\n",
    "\n",
    "# Close the cursor and the connection\n",
    "cursor.close()\n",
    "conn.close()"
   ]
  },
  {
   "cell_type": "markdown",
   "id": "1d7a7cfa-f3ef-41cd-8bfc-c3b1f80759e1",
   "metadata": {},
   "source": [
    "#### Step 6: Load data from the dictionary into MySQL tables"
   ]
  },
  {
   "cell_type": "code",
   "execution_count": 45,
   "id": "51139b34-79e2-479c-a326-6d7463ac4f99",
   "metadata": {},
   "outputs": [],
   "source": [
    "# Define connection parameters\n",
    "host = \"localhost\"  # Host where the MySQL server is running\n",
    "database = 'nashville_housing_db'  # Name of the database to connect to\n",
    "user = 'root'  # MySQL username\n",
    "password = '123456'  # MySQL password\n",
    "\n",
    "# Create an SQLAlchemy engine to connect to MySQL using pymysql as the DBAPI\n",
    "engine = create_engine(f'mysql+pymysql://{user}:{password}@{host}/{database}')\n",
    "\n",
    "# Load DataFrames from the dictionary into corresponding MySQL tables\n",
    "for sheet_name, data in housing_data.items():  # Loop through each sheet name and DataFrame\n",
    "    data.to_sql(sheet_name, con=engine, if_exists='replace', index=False)  # Insert data into MySQL, replace table if it exists"
   ]
  }
 ],
 "metadata": {
  "kernelspec": {
   "display_name": "Python 3 (ipykernel)",
   "language": "python",
   "name": "python3"
  },
  "language_info": {
   "codemirror_mode": {
    "name": "ipython",
    "version": 3
   },
   "file_extension": ".py",
   "mimetype": "text/x-python",
   "name": "python",
   "nbconvert_exporter": "python",
   "pygments_lexer": "ipython3",
   "version": "3.12.3"
  }
 },
 "nbformat": 4,
 "nbformat_minor": 5
}
